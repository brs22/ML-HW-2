{
 "cells": [
  {
   "cell_type": "markdown",
   "metadata": {},
   "source": [
    "Consider the [California Housing Dataset](https://scikit-learn.org/stable/modules/generated/sklearn.datasets.fetch_california_housing.html) that was studied in the lectures."
   ]
  },
  {
   "cell_type": "markdown",
   "metadata": {},
   "source": [
    "#### **(1) Data preprocessing:**  \n",
    "Provide a proposal on how to improve data preprocessing relative to the procedure described in the lecture notes. Evaluate the impact of different data treatment algorithms on the OLS regression results using the full dataset. Leverage the code provided in lecture notes as much as you can/want. Motivate your choices and discuss the results."
   ]
  },
  {
   "cell_type": "code",
   "execution_count": 2,
   "metadata": {},
   "outputs": [],
   "source": [
    "# Import / install relevant Python packages\n",
    "import numpy as np\n",
    "import pandas as pd  \n",
    "from scipy.special import comb\n",
    "import datetime as dt\n",
    "import statsmodels as sm\n",
    "\n",
    "from sklearn.pipeline import Pipeline\n",
    "from sklearn.pipeline import make_pipeline\n",
    "\n",
    "from sklearn.preprocessing import StandardScaler\n",
    "from sklearn.preprocessing import PolynomialFeatures\n",
    "\n",
    "from sklearn.feature_selection import f_regression\n",
    "from sklearn.feature_selection import mutual_info_regression\n",
    "from sklearn.feature_selection import (SelectKBest, SelectPercentile, RFE, RFECV)\n",
    "\n",
    "from sklearn.linear_model import (LinearRegression, Ridge, RidgeCV, Lasso, LassoCV, ElasticNet, ElasticNetCV)\n",
    "from sklearn.decomposition import PCA\n",
    "from sklearn.cross_decomposition import PLSRegression\n",
    "\n",
    "from sklearn.model_selection import cross_val_score\n",
    "from sklearn.model_selection import cross_validate\n",
    "\n",
    "from sklearn import metrics\n",
    "\n",
    "import matplotlib.pyplot as plt\n",
    "import seaborn as sns\n",
    "import plotly.graph_objects as go\n",
    "from plotly.subplots import make_subplots\n",
    "import yfinance as yf                 # pip install yfinance"
   ]
  },
  {
   "cell_type": "code",
   "execution_count": 1,
   "metadata": {},
   "outputs": [],
   "source": [
    "# Get data\n",
    "from sklearn.datasets import fetch_california_housing\n",
    "california_housing = fetch_california_housing()"
   ]
  },
  {
   "cell_type": "code",
   "execution_count": null,
   "metadata": {},
   "outputs": [],
   "source": [
    "###"
   ]
  },
  {
   "cell_type": "markdown",
   "metadata": {},
   "source": [
    "#### **(2) Feature and model selection:**  \n",
    "* Using your final (transformed) dataset, split the full sample into training and\n",
    "testing subsamples. Evaluate in-sample and out-of-sample performance for the\n",
    "following models: OLS, PLS, rigde, lasso, and elastic net regressions. For models\n",
    "which do not embed a feature selection procedure, consider specifications with\n",
    "different numbers of features. You can use performance metric(s) of your choice,\n",
    "however provide a rationale for your preferred approach.  \n",
    "* Create a summary tables and charts that displays different model specifications\n",
    "and the corresponding in-sample and out-of-sample performance metrics. Discuss\n",
    "your findings and comment on pros and cons for each of the considered models.  \n",
    "* Draw a conclusion which features are most important and which models perform\n",
    "best, and discuss your results."
   ]
  },
  {
   "cell_type": "code",
   "execution_count": null,
   "metadata": {},
   "outputs": [],
   "source": []
  }
 ],
 "metadata": {
  "kernelspec": {
   "display_name": "Python 3.9.7 ('base')",
   "language": "python",
   "name": "python3"
  },
  "language_info": {
   "codemirror_mode": {
    "name": "ipython",
    "version": 3
   },
   "file_extension": ".py",
   "mimetype": "text/x-python",
   "name": "python",
   "nbconvert_exporter": "python",
   "pygments_lexer": "ipython3",
   "version": "3.9.7"
  },
  "orig_nbformat": 4,
  "vscode": {
   "interpreter": {
    "hash": "ad2bdc8ecc057115af97d19610ffacc2b4e99fae6737bb82f5d7fb13d2f2c186"
   }
  }
 },
 "nbformat": 4,
 "nbformat_minor": 2
}
